{
 "cells": [
  {
   "cell_type": "code",
   "execution_count": 1,
   "metadata": {
    "id": "2n1pl43Kvbxg"
   },
   "outputs": [],
   "source": [
    "from sklearn.datasets import fetch_openml\n",
    "import matplotlib\n",
    "import matplotlib.pyplot as plt\n",
    "import numpy as np\n",
    "from sklearn.linear_model import LogisticRegression\n",
    "from sklearn.model_selection import cross_val_score"
   ]
  },
  {
   "cell_type": "code",
   "execution_count": 2,
   "metadata": {
    "id": "fRyPyHKtvc-u"
   },
   "outputs": [],
   "source": [
    "import tensorflow as tf"
   ]
  },
  {
   "cell_type": "code",
   "execution_count": 3,
   "metadata": {
    "id": "s6v0IHldvj_d"
   },
   "outputs": [],
   "source": [
    "mnist = tf.keras. datasets.mnist"
   ]
  },
  {
   "cell_type": "code",
   "execution_count": 4,
   "metadata": {
    "colab": {
     "base_uri": "https://localhost:8080/"
    },
    "id": "nmMVcP6ev0T8",
    "outputId": "261317a9-f0ec-4879-acb2-416aebfd2505"
   },
   "outputs": [],
   "source": [
    "(x_train, y_train), (x_test, y_test) = mnist.load_data()"
   ]
  },
  {
   "cell_type": "code",
   "execution_count": 5,
   "metadata": {
    "colab": {
     "base_uri": "https://localhost:8080/",
     "height": 447
    },
    "id": "iSLNZ2Kav6E4",
    "outputId": "30433b62-ffc3-4369-f385-b9a62ec1ae8b"
   },
   "outputs": [
    {
     "data": {
      "text/plain": [
       "<matplotlib.image.AxesImage at 0x2921b9c00>"
      ]
     },
     "execution_count": 5,
     "metadata": {},
     "output_type": "execute_result"
    },
    {
     "data": {
      "image/png": "[encoded data removed]",
      "text/plain": [
       "<Figure size 640x480 with 1 Axes>"
      ]
     },
     "metadata": {},
     "output_type": "display_data"
    }
   ],
   "source": [
    "plt.imshow(x_train[20])\n",
    "plt.imshow(x_train[20], cmap = plt.cm.binary)"
   ]
  },
  {
   "cell_type": "code",
   "execution_count": 6,
   "metadata": {
    "colab": {
     "base_uri": "https://localhost:8080/",
     "height": 447
    },
    "id": "S3imcs3fv7V_",
    "outputId": "f24ba6fc-4613-4ff8-8086-42412c26fd09"
   },
   "outputs": [
    {
     "data": {
      "text/plain": [
       "<matplotlib.image.AxesImage at 0x2923edc30>"
      ]
     },
     "execution_count": 6,
     "metadata": {},
     "output_type": "execute_result"
    },
    {
     "data": {
      "image/png": "[encoded data removed]",
      "text/plain": [
       "<Figure size 640x480 with 1 Axes>"
      ]
     },
     "metadata": {},
     "output_type": "display_data"
    }
   ],
   "source": [
    "x_train = tf.keras.utils.normalize (x_train, axis = 1)\n",
    "x_test = tf.keras.utils.normalize(x_test, axis=1)\n",
    "plt.imshow(x_train[20], cmap = plt.cm.binary)"
   ]
  },
  {
   "cell_type": "code",
   "execution_count": 7,
   "metadata": {
    "colab": {
     "base_uri": "https://localhost:8080/"
    },
    "id": "c45BofWf4nx8",
    "outputId": "ddc65c48-bb55-4a94-ea0d-0384ab06f1fc"
   },
   "outputs": [
    {
     "name": "stdout",
     "output_type": "stream",
     "text": [
      "4\n"
     ]
    }
   ],
   "source": [
    "print (y_train[20])"
   ]
  },
  {
   "cell_type": "code",
   "execution_count": 8,
   "metadata": {
    "colab": {
     "base_uri": "https://localhost:8080/"
    },
    "id": "hbD6f6N94vch",
    "outputId": "f36300ca-dced-48c5-90e2-ad5ed1cbfac6"
   },
   "outputs": [
    {
     "name": "stdout",
     "output_type": "stream",
     "text": [
      "Training Samples dimension (60000, 28, 28)\n",
      "Testing Samples dimension (10000, 28, 28, 1)\n"
     ]
    }
   ],
   "source": [
    "IMG_SIZE=28\n",
    "x_trainr= np.array(x_train).reshape (-1, IMG_SIZE, IMG_SIZE, 1)\n",
    "x_testr= np.array(x_test).reshape(-1, IMG_SIZE, IMG_SIZE, 1)\n",
    "print (\"Training Samples dimension\",x_train.shape)\n",
    "print (\"Testing Samples dimension\", x_testr.shape)"
   ]
  },
  {
   "cell_type": "code",
   "execution_count": 9,
   "metadata": {
    "id": "9gggd0DB446A"
   },
   "outputs": [],
   "source": [
    "from tensorflow.keras.models import Sequential\n",
    "from tensorflow. keras.layers import Dense, Dropout, Activation, Flatten, Conv2D, MaxPooling2D"
   ]
  },
  {
   "cell_type": "code",
   "execution_count": 10,
   "metadata": {
    "id": "sGzG29-r5XRd"
   },
   "outputs": [
    {
     "name": "stdout",
     "output_type": "stream",
     "text": [
      "Metal device set to: Apple M1\n"
     ]
    }
   ],
   "source": [
    "model = Sequential ()"
   ]
  },
  {
   "cell_type": "code",
   "execution_count": 13,
   "metadata": {
    "id": "ezeA1rmq5aIP"
   },
   "outputs": [],
   "source": [
    "##### First Convolution Layer 0 1 2 3 (60000, 28, 28, 1) 28-3+1 = 26×26\n",
    "model.add(Conv2D(64, (3,3), input_shape = x_train.shape[1:]))\n",
    "model. add(Activation (\"relu\"))\n",
    "model.add(MaxPooling2D(pool_size=(2,2)))"
   ]
  },
  {
   "cell_type": "code",
   "execution_count": 12,
   "metadata": {
    "id": "n3k6nMdg5lXY"
   },
   "outputs": [],
   "source": [
    "##### 2nd Convolution Layer 26-3+1= 24*24 \n",
    "model.add(Conv2D (64, (3,3))) ## 2nd Convolution Layer \n",
    "model.add(Activation(\"relu\"))## activation funtion \n",
    "## MaxPooling"
   ]
  },
  {
   "cell_type": "code",
   "execution_count": 14,
   "metadata": {
    "id": "ep7vPioL6Au3"
   },
   "outputs": [],
   "source": [
    "##### 3rd Convolution Layer \n",
    "model.add(Conv2D (64, (3,3))) # 24*24 \n",
    "model.add(Activation(\"relu\")) \n",
    "model.add(MaxPooling2D(pool_size= (2,2)))"
   ]
  },
  {
   "cell_type": "code",
   "execution_count": 15,
   "metadata": {
    "id": "gvZAWeRrwhS8"
   },
   "outputs": [],
   "source": [
    "#### Fully Connected Layer # 1 20x20= 400\n",
    "model.add (Flatten()) ### before using fully connected layer, need to be flatten so that 2D to ID \n",
    "model.add (Dense(64)) # \n",
    "model.add(Activation(\"relu\"))"
   ]
  },
  {
   "cell_type": "code",
   "execution_count": 16,
   "metadata": {
    "id": "maGEFXy6wss3"
   },
   "outputs": [],
   "source": [
    "#### Fully Connected Laver # 2\n",
    "model.add (Dense (32))\n",
    "model.add(Activation(\"relu\"))"
   ]
  },
  {
   "cell_type": "code",
   "execution_count": 17,
   "metadata": {
    "id": "BdNWjv5hwzQe"
   },
   "outputs": [],
   "source": [
    "#### Last Fully Connected Layer, output must be equal to number of classes, 10 (0-9)\n",
    "model.add(Dense (10)) ## this last dense laver must be equal to 10\n",
    "model.add(Activation('softmax')) ### activation function is changed to Softmax (Class probabilites )"
   ]
  },
  {
   "cell_type": "code",
   "execution_count": 32,
   "metadata": {
    "colab": {
     "base_uri": "https://localhost:8080/"
    },
    "id": "3yLy7hfnw3t-",
    "outputId": "91c9b8b3-b1e8-4811-acae-380b12f24b75"
   },
   "outputs": [
    {
     "name": "stdout",
     "output_type": "stream",
     "text": [
      "Model: \"sequential\"\n",
      "_________________________________________________________________\n",
      " Layer (type)                Output Shape              Param #   \n",
      "=================================================================\n",
      " conv2d_1 (Conv2D)           (None, 26, 26, 64)        640       \n",
      "                                                                 \n",
      " activation (Activation)     (None, 26, 26, 64)        0         \n",
      "                                                                 \n",
      " conv2d_2 (Conv2D)           (None, 24, 24, 64)        36928     \n",
      "                                                                 \n",
      " activation_1 (Activation)   (None, 24, 24, 64)        0         \n",
      "                                                                 \n",
      " max_pooling2d (MaxPooling2D  (None, 12, 12, 64)       0         \n",
      " )                                                               \n",
      "                                                                 \n",
      " conv2d_3 (Conv2D)           (None, 10, 10, 64)        36928     \n",
      "                                                                 \n",
      " activation_2 (Activation)   (None, 10, 10, 64)        0         \n",
      "                                                                 \n",
      " max_pooling2d_1 (MaxPooling  (None, 5, 5, 64)         0         \n",
      " 2D)                                                             \n",
      "                                                                 \n",
      " flatten (Flatten)           (None, 1600)              0         \n",
      "                                                                 \n",
      " dense (Dense)               (None, 64)                102464    \n",
      "                                                                 \n",
      " activation_3 (Activation)   (None, 64)                0         \n",
      "                                                                 \n",
      " dense_1 (Dense)             (None, 32)                2080      \n",
      "                                                                 \n",
      " activation_4 (Activation)   (None, 32)                0         \n",
      "                                                                 \n",
      " dense_2 (Dense)             (None, 10)                330       \n",
      "                                                                 \n",
      " activation_5 (Activation)   (None, 10)                0         \n",
      "                                                                 \n",
      "=================================================================\n",
      "Total params: 179,370\n",
      "Trainable params: 179,370\n",
      "Non-trainable params: 0\n",
      "_________________________________________________________________\n"
     ]
    }
   ],
   "source": [
    "model.summary()"
   ]
  },
  {
   "cell_type": "code",
   "execution_count": 33,
   "metadata": {
    "colab": {
     "base_uri": "https://localhost:8080/"
    },
    "id": "Y9JtbcvuxCzH",
    "outputId": "48a361be-c136-4711-bd37-0ac155703667"
   },
   "outputs": [
    {
     "name": "stdout",
     "output_type": "stream",
     "text": [
      "Total Training Samples =  60000\n"
     ]
    }
   ],
   "source": [
    "print (\"Total Training Samples = \", len(x_trainr))"
   ]
  },
  {
   "cell_type": "code",
   "execution_count": 20,
   "metadata": {
    "id": "WSxvvaTxxhl_"
   },
   "outputs": [],
   "source": [
    "model.compile(loss =\"sparse_categorical_crossentropy\", optimizer =\"adam\", metrics=[ 'accuracy'])"
   ]
  },
  {
   "cell_type": "code",
   "execution_count": 21,
   "metadata": {
    "colab": {
     "base_uri": "https://localhost:8080/"
    },
    "id": "NeMFmYYpx_Q6",
    "outputId": "65249737-c469-405e-8162-ce2bf99c9847"
   },
   "outputs": [
    {
     "name": "stdout",
     "output_type": "stream",
     "text": [
      "Epoch 1/10\n"
     ]
    },
    {
     "name": "stderr",
     "output_type": "stream",
     "text": [
      "2023-05-16 21:47:05.437174: W tensorflow/tsl/platform/profile_utils/cpu_utils.cc:128] Failed to get CPU frequency: 0 Hz\n"
     ]
    },
    {
     "name": "stdout",
     "output_type": "stream",
     "text": [
      "1313/1313 [==============================] - 24s 18ms/step - loss: 0.1767 - accuracy: 0.9448 - val_loss: 0.0714 - val_accuracy: 0.9786\n",
      "Epoch 2/10\n",
      "1313/1313 [==============================] - 23s 17ms/step - loss: 0.0542 - accuracy: 0.9835 - val_loss: 0.0522 - val_accuracy: 0.9836\n",
      "Epoch 3/10\n",
      "1313/1313 [==============================] - 23s 17ms/step - loss: 0.0382 - accuracy: 0.9878 - val_loss: 0.0594 - val_accuracy: 0.9814\n",
      "Epoch 4/10\n",
      "1313/1313 [==============================] - 23s 17ms/step - loss: 0.0272 - accuracy: 0.9914 - val_loss: 0.0546 - val_accuracy: 0.9853\n",
      "Epoch 5/10\n",
      "1313/1313 [==============================] - 23s 17ms/step - loss: 0.0241 - accuracy: 0.9923 - val_loss: 0.0477 - val_accuracy: 0.9869\n",
      "Epoch 6/10\n",
      "1313/1313 [==============================] - 23s 17ms/step - loss: 0.0178 - accuracy: 0.9940 - val_loss: 0.0392 - val_accuracy: 0.9898\n",
      "Epoch 7/10\n",
      "1313/1313 [==============================] - 23s 17ms/step - loss: 0.0138 - accuracy: 0.9957 - val_loss: 0.0496 - val_accuracy: 0.9877\n",
      "Epoch 8/10\n",
      "1313/1313 [==============================] - 23s 17ms/step - loss: 0.0127 - accuracy: 0.9956 - val_loss: 0.0574 - val_accuracy: 0.9852\n",
      "Epoch 9/10\n",
      "1313/1313 [==============================] - 23s 17ms/step - loss: 0.0109 - accuracy: 0.9963 - val_loss: 0.0560 - val_accuracy: 0.9886\n",
      "Epoch 10/10\n",
      "1313/1313 [==============================] - 23s 17ms/step - loss: 0.0096 - accuracy: 0.9969 - val_loss: 0.0489 - val_accuracy: 0.9876\n"
     ]
    },
    {
     "data": {
      "text/plain": [
       "<keras.callbacks.History at 0x2a206f0d0>"
      ]
     },
     "execution_count": 21,
     "metadata": {},
     "output_type": "execute_result"
    }
   ],
   "source": [
    "model.fit (x_trainr,y_train, epochs=10, validation_split = 0.3) ## Training my model"
   ]
  },
  {
   "cell_type": "code",
   "execution_count": 22,
   "metadata": {
    "colab": {
     "base_uri": "https://localhost:8080/"
    },
    "id": "1fDMLh-SyfeW",
    "outputId": "71a5fe22-642a-4e71-c734-4f6ae120af16"
   },
   "outputs": [
    {
     "name": "stdout",
     "output_type": "stream",
     "text": [
      "313/313 [==============================] - 2s 8ms/step - loss: 0.0459 - accuracy: 0.9886\n",
      "Test Loss on 10,000 test samples 0.04593798890709877\n",
      "Validation Accuracy on 10,000 test samples 0.9886000156402588\n"
     ]
    }
   ],
   "source": [
    "### Evaluateing on testing data set MNIT\n",
    "test_loss, test_acc = model.evaluate(x_testr, y_test) \n",
    "print (\"Test Loss on 10,000 test samples\", test_loss)\n",
    "print (\"Validation Accuracy on 10,000 test samples\", test_acc )"
   ]
  },
  {
   "cell_type": "code",
   "execution_count": 23,
   "metadata": {
    "colab": {
     "base_uri": "https://localhost:8080/"
    },
    "id": "zSVNufok1VhC",
    "outputId": "4e11b2e3-5d3b-4251-cefd-22d082004e85"
   },
   "outputs": [
    {
     "name": "stdout",
     "output_type": "stream",
     "text": [
      "WARNING:tensorflow:Layers in a Sequential model should only have a single input tensor. Received: inputs=(<tf.Tensor 'IteratorGetNext:0' shape=(None, 28, 28, 1) dtype=float32>,). Consider rewriting this model with the Functional API.\n",
      "313/313 [==============================] - 2s 7ms/step\n"
     ]
    }
   ],
   "source": [
    "predictions=model.predict([x_testr])"
   ]
  },
  {
   "cell_type": "code",
   "execution_count": 24,
   "metadata": {
    "colab": {
     "base_uri": "https://localhost:8080/"
    },
    "id": "OIoHTmip1vUE",
    "outputId": "2dc08b6c-d3ba-44d2-ca59-50110c2947d9"
   },
   "outputs": [
    {
     "name": "stdout",
     "output_type": "stream",
     "text": [
      "[[1.0310561e-12 5.7561465e-08 2.4346050e-09 ... 9.9999964e-01\n",
      "  1.4466077e-13 1.4645831e-07]\n",
      " [1.5713751e-09 1.4172837e-10 1.0000000e+00 ... 7.3175979e-11\n",
      "  7.0759533e-13 1.1715018e-16]\n",
      " [3.0634054e-12 9.9999988e-01 2.5239222e-10 ... 7.4937798e-09\n",
      "  9.3715088e-12 9.8308389e-11]\n",
      " ...\n",
      " [3.2434778e-17 4.1724006e-11 2.7193059e-13 ... 3.4841718e-14\n",
      "  8.2939203e-14 2.9982067e-12]\n",
      " [4.6498843e-11 1.5414072e-14 1.5000051e-14 ... 5.8543184e-11\n",
      "  1.4879333e-08 4.5290789e-12]\n",
      " [2.2920547e-06 3.0184133e-08 8.5977575e-08 ... 3.4755692e-09\n",
      "  1.0000786e-05 2.8796012e-09]]\n"
     ]
    }
   ],
   "source": [
    "print(predictions)"
   ]
  },
  {
   "cell_type": "code",
   "execution_count": 25,
   "metadata": {
    "colab": {
     "base_uri": "https://localhost:8080/"
    },
    "id": "1xoL92bK16IR",
    "outputId": "8e9f0a4a-fd28-4a74-ae28-7994e7ae91e8"
   },
   "outputs": [
    {
     "name": "stdout",
     "output_type": "stream",
     "text": [
      "7\n"
     ]
    }
   ],
   "source": [
    "print(np.argmax(predictions[0]))"
   ]
  },
  {
   "cell_type": "code",
   "execution_count": 26,
   "metadata": {
    "colab": {
     "base_uri": "https://localhost:8080/",
     "height": 447
    },
    "id": "8Yz78m3Z2Aw2",
    "outputId": "27f5a6a5-8869-44a9-df13-c8c34e746d28"
   },
   "outputs": [
    {
     "data": {
      "text/plain": [
       "<matplotlib.image.AxesImage at 0x30a284100>"
      ]
     },
     "execution_count": 26,
     "metadata": {},
     "output_type": "execute_result"
    },
    {
     "data": {
      "image/png": "[encoded data removed]",
      "text/plain": [
       "<Figure size 640x480 with 1 Axes>"
      ]
     },
     "metadata": {},
     "output_type": "display_data"
    }
   ],
   "source": [
    "### now to check that is our answer is true or not\n",
    "plt.imshow(x_test[0])"
   ]
  },
  {
   "cell_type": "code",
   "execution_count": 27,
   "metadata": {
    "colab": {
     "base_uri": "https://localhost:8080/"
    },
    "id": "jF109mSZ2TWG",
    "outputId": "c85659ea-3770-46b3-bd9e-f6903022e259"
   },
   "outputs": [
    {
     "name": "stdout",
     "output_type": "stream",
     "text": [
      "Requirement already satisfied: opencv-python in /Users/priyanshu/miniforge3/envs/tensorflow/lib/python3.10/site-packages (4.7.0.72)\n",
      "Requirement already satisfied: numpy>=1.21.2 in /Users/priyanshu/miniforge3/envs/tensorflow/lib/python3.10/site-packages (from opencv-python) (1.23.5)\n",
      "Note: you may need to restart the kernel to use updated packages.\n"
     ]
    }
   ],
   "source": [
    "pip install opencv-python"
   ]
  },
  {
   "cell_type": "code",
   "execution_count": 34,
   "metadata": {
    "id": "ld-DG9EL3TEE"
   },
   "outputs": [],
   "source": [
    "import cv2"
   ]
  },
  {
   "cell_type": "code",
   "execution_count": 36,
   "metadata": {
    "id": "t604vX0B2gU0"
   },
   "outputs": [],
   "source": [
    "img = cv2.imread('img.jpeg')"
   ]
  },
  {
   "cell_type": "code",
   "execution_count": 37,
   "metadata": {
    "colab": {
     "base_uri": "https://localhost:8080/",
     "height": 452
    },
    "id": "UCHLQ6lH3Qkw",
    "outputId": "d08aee30-4c8e-4cd7-93ef-ce17248bcd34"
   },
   "outputs": [
    {
     "data": {
      "text/plain": [
       "<matplotlib.image.AxesImage at 0x32ff34d30>"
      ]
     },
     "execution_count": 37,
     "metadata": {},
     "output_type": "execute_result"
    },
    {
     "data": {
      "image/png": "[encoded data removed]",
      "text/plain": [
       "<Figure size 640x480 with 1 Axes>"
      ]
     },
     "metadata": {},
     "output_type": "display_data"
    }
   ],
   "source": [
    "plt.imshow(img)"
   ]
  },
  {
   "cell_type": "code",
   "execution_count": 38,
   "metadata": {
    "colab": {
     "base_uri": "https://localhost:8080/"
    },
    "id": "Xkj210uC4QOn",
    "outputId": "0dbffb90-488c-42f2-c2ee-104df0b85574"
   },
   "outputs": [
    {
     "data": {
      "text/plain": [
       "(716, 800, 3)"
      ]
     },
     "execution_count": 38,
     "metadata": {},
     "output_type": "execute_result"
    }
   ],
   "source": [
    "img.shape"
   ]
  },
  {
   "cell_type": "code",
   "execution_count": 39,
   "metadata": {
    "id": "ZlVHY_1I4TFu"
   },
   "outputs": [],
   "source": [
    "gray = cv2. cvtColor (img, cv2.COLOR_BGR2GRAY)"
   ]
  },
  {
   "cell_type": "code",
   "execution_count": 40,
   "metadata": {
    "colab": {
     "base_uri": "https://localhost:8080/"
    },
    "id": "mJywiZti4WKF",
    "outputId": "d9f6a389-605c-4b5f-9665-c1b0a7ad3327"
   },
   "outputs": [
    {
     "data": {
      "text/plain": [
       "(716, 800)"
      ]
     },
     "execution_count": 40,
     "metadata": {},
     "output_type": "execute_result"
    }
   ],
   "source": [
    "gray.shape"
   ]
  },
  {
   "cell_type": "code",
   "execution_count": 41,
   "metadata": {
    "id": "LE1J6sZD3sj8"
   },
   "outputs": [],
   "source": [
    "resized = cv2.resize(gray,(28,28), interpolation = cv2. INTER_AREA)"
   ]
  },
  {
   "cell_type": "code",
   "execution_count": 42,
   "metadata": {
    "colab": {
     "base_uri": "https://localhost:8080/"
    },
    "id": "pWEkNwrG4SSa",
    "outputId": "31443b19-9d2c-4f0b-cba8-550f6edd5acd"
   },
   "outputs": [
    {
     "data": {
      "text/plain": [
       "(28, 28)"
      ]
     },
     "execution_count": 42,
     "metadata": {},
     "output_type": "execute_result"
    }
   ],
   "source": [
    "resized.shape"
   ]
  },
  {
   "cell_type": "code",
   "execution_count": 43,
   "metadata": {
    "id": "MTUEvy7J33fv"
   },
   "outputs": [],
   "source": [
    "newimg = tf.keras.utils.normalize (resized, axis = 1)"
   ]
  },
  {
   "cell_type": "code",
   "execution_count": 44,
   "metadata": {
    "id": "q-YEFAEa4vSt"
   },
   "outputs": [],
   "source": [
    "newimg= np.array (newimg) .reshape (-1, IMG_SIZE, IMG_SIZE, 1) # kernel operation of convoution Layer,"
   ]
  },
  {
   "cell_type": "code",
   "execution_count": 45,
   "metadata": {
    "colab": {
     "base_uri": "https://localhost:8080/"
    },
    "id": "zg_2_bVG40nY",
    "outputId": "99dc5964-f238-4ab1-f12f-807e44779d65"
   },
   "outputs": [
    {
     "data": {
      "text/plain": [
       "(1, 28, 28, 1)"
      ]
     },
     "execution_count": 45,
     "metadata": {},
     "output_type": "execute_result"
    }
   ],
   "source": [
    "newimg.shape"
   ]
  },
  {
   "cell_type": "code",
   "execution_count": 46,
   "metadata": {
    "colab": {
     "base_uri": "https://localhost:8080/"
    },
    "id": "R8qvCUlf42ih",
    "outputId": "9824ed01-8744-46f3-a317-717f8d55bf9d"
   },
   "outputs": [
    {
     "name": "stdout",
     "output_type": "stream",
     "text": [
      "1/1 [==============================] - 0s 99ms/step\n",
      "1\n"
     ]
    }
   ],
   "source": [
    "predicions = model.predict (newimg)\n",
    "print (np.argmax (predicions))"
   ]
  },
  {
   "cell_type": "code",
   "execution_count": 47,
   "metadata": {
    "id": "0kM5_StC49-w"
   },
   "outputs": [],
   "source": [
    "img2 = cv2.imread('img2.jpeg')"
   ]
  },
  {
   "cell_type": "code",
   "execution_count": 48,
   "metadata": {
    "colab": {
     "base_uri": "https://localhost:8080/",
     "height": 452
    },
    "id": "Vi1yD5jk7L8u",
    "outputId": "63257a16-4a74-4e25-e1f9-df7b0dc3fb1d"
   },
   "outputs": [
    {
     "data": {
      "text/plain": [
       "<matplotlib.image.AxesImage at 0x3306a5b40>"
      ]
     },
     "execution_count": 48,
     "metadata": {},
     "output_type": "execute_result"
    },
    {
     "data": {
      "image/png": "[encoded data removed]",
      "text/plain": [
       "<Figure size 640x480 with 1 Axes>"
      ]
     },
     "metadata": {},
     "output_type": "display_data"
    }
   ],
   "source": [
    "plt.imshow(img2)"
   ]
  },
  {
   "cell_type": "code",
   "execution_count": 49,
   "metadata": {
    "colab": {
     "base_uri": "https://localhost:8080/"
    },
    "id": "OiFukXr57PPW",
    "outputId": "e506b6f3-d2b1-4ca9-e260-9790b61e81b1"
   },
   "outputs": [
    {
     "name": "stdout",
     "output_type": "stream",
     "text": [
      "1/1 [==============================] - 0s 18ms/step\n",
      "6\n"
     ]
    }
   ],
   "source": [
    "gray2 = cv2. cvtColor (img2, cv2.COLOR_BGR2GRAY)\n",
    "resized = cv2.resize(gray2,(28,28), interpolation = cv2. INTER_AREA)\n",
    "newimg2 = tf.keras.utils.normalize (resized, axis = 1)\n",
    "newimg2= np.array (newimg2) .reshape (-1, IMG_SIZE, IMG_SIZE, 1)\n",
    "predicions = model.predict (newimg2)\n",
    "print (np.argmax (predicions))"
   ]
  },
  {
   "cell_type": "code",
   "execution_count": 50,
   "metadata": {
    "id": "4ZIszIuG7rPU"
   },
   "outputs": [],
   "source": [
    "model.save(\"mnist_model.h5\")      "
   ]
  },
  {
   "cell_type": "code",
   "execution_count": null,
   "metadata": {},
   "outputs": [],
   "source": []
  }
 ],
 "metadata": {
  "colab": {
   "provenance": []
  },
  "kernelspec": {
   "display_name": "Python 3 (ipykernel)",
   "language": "python",
   "name": "python3"
  },
  "language_info": {
   "codemirror_mode": {
    "name": "ipython",
    "version": 3
   },
   "file_extension": ".py",
   "mimetype": "text/x-python",
   "name": "python",
   "nbconvert_exporter": "python",
   "pygments_lexer": "ipython3",
   "version": "3.10.10"
  }
 },
 "nbformat": 4,
 "nbformat_minor": 1
}
